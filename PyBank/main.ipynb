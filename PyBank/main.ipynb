{
 "cells": [
  {
   "cell_type": "code",
   "execution_count": 1,
   "id": "8e96ee0f-6d79-402a-8815-05b7d30562e4",
   "metadata": {},
   "outputs": [
    {
     "data": {
      "text/plain": [
       "_io.TextIOWrapper"
      ]
     },
     "execution_count": 1,
     "metadata": {},
     "output_type": "execute_result"
    }
   ],
   "source": [
    "import csv\n",
    "file = open(\"budget_data.csv\")\n",
    "type(file)\n",
    "\n"
   ]
  },
  {
   "cell_type": "code",
   "execution_count": 2,
   "id": "8c1b0867-4a84-4dd8-a3df-2b7ede672dca",
   "metadata": {},
   "outputs": [],
   "source": [
    "csvreader = csv.reader(file)"
   ]
  },
  {
   "cell_type": "code",
   "execution_count": 3,
   "id": "2ec7447d-a5da-4f15-8c48-68c703782ece",
   "metadata": {},
   "outputs": [],
   "source": [
    "header = []\n",
    "header = next(csvreader)\n",
    "rows = []\n",
    "for row in csvreader:\n",
    "    rows.append(row)"
   ]
  },
  {
   "cell_type": "code",
   "execution_count": 4,
   "id": "63f9db0f-6144-4ae9-83a7-caa0c8393e40",
   "metadata": {},
   "outputs": [
    {
     "name": "stdout",
     "output_type": "stream",
     "text": [
      "initial list [['Jan-2010', '867884'], ['Feb-2010', '984655'], ['Mar-2010', '322013'], ['Apr-2010', '-69417'], ['May-2010', '310503'], ['Jun-2010', '522857'], ['Jul-2010', '1033096'], ['Aug-2010', '604885'], ['Sep-2010', '-216386'], ['Oct-2010', '477532'], ['Nov-2010', '893810'], ['Dec-2010', '-80353'], ['Jan-2011', '779806'], ['Feb-2011', '-335203'], ['Mar-2011', '697845'], ['Apr-2011', '793163'], ['May-2011', '485070'], ['Jun-2011', '584122'], ['Jul-2011', '62729'], ['Aug-2011', '668179'], ['Sep-2011', '899906'], ['Oct-2011', '834719'], ['Nov-2011', '132003'], ['Dec-2011', '309978'], ['Jan-2012', '-755566'], ['Feb-2012', '1170593'], ['Mar-2012', '252788'], ['Apr-2012', '1151518'], ['May-2012', '817256'], ['Jun-2012', '570757'], ['Jul-2012', '506702'], ['Aug-2012', '-1022534'], ['Sep-2012', '475062'], ['Oct-2012', '779976'], ['Nov-2012', '144175'], ['Dec-2012', '542494'], ['Jan-2013', '359333'], ['Feb-2013', '321469'], ['Mar-2013', '67780'], ['Apr-2013', '471435'], ['May-2013', '565603'], ['Jun-2013', '872480'], ['Jul-2013', '789480'], ['Aug-2013', '999942'], ['Sep-2013', '-1196225'], ['Oct-2013', '268997'], ['Nov-2013', '-687986'], ['Dec-2013', '1150461'], ['Jan-2014', '682458'], ['Feb-2014', '617856'], ['Mar-2014', '824098'], ['Apr-2014', '581943'], ['May-2014', '132864'], ['Jun-2014', '448062'], ['Jul-2014', '689161'], ['Aug-2014', '800701'], ['Sep-2014', '1166643'], ['Oct-2014', '947333'], ['Nov-2014', '578668'], ['Dec-2014', '988505'], ['Jan-2015', '1139715'], ['Feb-2015', '1029471'], ['Mar-2015', '687533'], ['Apr-2015', '-524626'], ['May-2015', '158620'], ['Jun-2015', '87795'], ['Jul-2015', '423389'], ['Aug-2015', '840723'], ['Sep-2015', '568529'], ['Oct-2015', '332067'], ['Nov-2015', '989499'], ['Dec-2015', '778237'], ['Jan-2016', '650000'], ['Feb-2016', '-1100387'], ['Mar-2016', '-174946'], ['Apr-2016', '757143'], ['May-2016', '445709'], ['Jun-2016', '712961'], ['Jul-2016', '-1163797'], ['Aug-2016', '569899'], ['Sep-2016', '768450'], ['Oct-2016', '102685'], ['Nov-2016', '795914'], ['Dec-2016', '60988'], ['Jan-2017', '138230'], ['Feb-2017', '671099']]\n"
     ]
    }
   ],
   "source": [
    "#Split the nested list into two lists\n",
    "print (\"initial list\", str(rows))\n",
    "total = [i[1] for i in rows]\n",
    "dates = [i[0] for i in rows]\n",
    "#change the list to integers\n",
    "totalint = [int(x) for x in total]\n",
    "sum (totalint)\n",
    "#convert two lists into a dictionary\n",
    "zipped = zip (dates, totalint)\n",
    "bank = dict(zipped)"
   ]
  },
  {
   "cell_type": "code",
   "execution_count": 5,
   "id": "0f3ae1a2-e620-47dc-a193-45e778c9c9f6",
   "metadata": {},
   "outputs": [],
   "source": [
    "minimum = 0 \n",
    "minimum_date = None\n",
    "for x in bank:\n",
    "    if minimum == 0:\n",
    "        minimum = bank[x]\n",
    "        minimum_date = x\n",
    "    elif bank[x] < minimum:\n",
    "        minimum = bank[x]\n",
    "        minimum_date = x\n",
    "maximum = 0\n",
    "maximum_date = None\n",
    "for x in bank:\n",
    "    if maximum == 0:\n",
    "        maximum = bank[x]\n",
    "        maximum_date = x\n",
    "    elif bank[x] > maximum:\n",
    "        maximum = bank[x]\n",
    "        maximum_date = x\n",
    "    "
   ]
  },
  {
   "cell_type": "code",
   "execution_count": 6,
   "id": "a2f3b688-32d9-4823-ae17-5ef447ce77f1",
   "metadata": {},
   "outputs": [
    {
     "name": "stdout",
     "output_type": "stream",
     "text": [
      "Total months : 86\n",
      "Total: 38382578\n",
      "Average Change: 446309.05\n",
      "Greatest increase: Feb-2012 1170593\n",
      "Greatest decrease: Sep-2013 -1196225\n"
     ]
    }
   ],
   "source": [
    "# The total number of months included in the dataset.\n",
    "print (\"Total months :\", len (rows))\n",
    "#The net total amount of Profit/Losses over the entire period.\n",
    "print (\"Total:\", sum(totalint))\n",
    "#The average of the changes in Profit/Losses over the entire period.\n",
    "print (\"Average Change:\", round (sum(totalint)/len(rows),2))\n",
    "#The greatest increase in profits (date and amount) over the entire period.\n",
    "print (\"Greatest increase:\", maximum_date, maximum)\n",
    "print (\"Greatest decrease:\", minimum_date, minimum)\n",
    "import sys\n",
    "original_stdout = sys.stdout\n",
    "with open('analysis.txt', 'w') as f:\n",
    "    sys.stdout = f\n",
    "    print (\"Financial Analysis:\")\n",
    "    print (\"Total months :\", len (rows))\n",
    "    print (\"Total:\", sum(totalint))\n",
    "    print (\"Average Change:\", sum(totalint)/len(rows))\n",
    "    print (\"Greatest increase:\", maximum_date, maximum)\n",
    "    print (\"Greatest decrease:\", minimum_date, minimum)\n",
    "    sys.stdout = original_stdout\n"
   ]
  },
  {
   "cell_type": "code",
   "execution_count": null,
   "id": "9ee14152-cbfc-4201-bc7f-15094040710d",
   "metadata": {},
   "outputs": [],
   "source": []
  }
 ],
 "metadata": {
  "kernelspec": {
   "display_name": "Python 3",
   "language": "python",
   "name": "python3"
  },
  "language_info": {
   "codemirror_mode": {
    "name": "ipython",
    "version": 3
   },
   "file_extension": ".py",
   "mimetype": "text/x-python",
   "name": "python",
   "nbconvert_exporter": "python",
   "pygments_lexer": "ipython3",
   "version": "3.8.8"
  }
 },
 "nbformat": 4,
 "nbformat_minor": 5
}
